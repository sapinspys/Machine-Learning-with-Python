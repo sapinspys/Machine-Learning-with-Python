{
 "cells": [
  {
   "cell_type": "markdown",
   "metadata": {},
   "source": [
    "# Introduction to Scikit-Learn\n",
    "\n",
    "Welcome!\n",
    "\n",
    "We will be using the Scikit-Learn module to interactively learn about machine learning with Python. \n",
    "\n",
    "To install with Anaconda Prompt use:\n",
    "**conda install scikit-learn**\n",
    "\n",
    "To install with pip use:\n",
    "**pip install scikit-learn**"
   ]
  },
  {
   "cell_type": "markdown",
   "metadata": {},
   "source": [
    "## Algorithms\n",
    "\n",
    "Scikit-Learn is a package that provides efficient implementations of common algorithms, or models. Once we learn to use one type of model, switching to a new model should be fairly similar.\n",
    "\n",
    "Every algorithm is implemented via Scikit-Learn's Estimator API. A model must be imported using this general model:\n",
    "\n",
    "__*from sklearn.family import Model*__\n",
    "\n",
    "Furthermore, using shift-tab next to the end of the word \"Model\" reveals that estimators are equipped with default parameters that may be modified during instantiation.\n",
    "\n",
    "### For example, linear regression:"
   ]
  },
  {
   "cell_type": "code",
   "execution_count": 4,
   "metadata": {},
   "outputs": [
    {
     "name": "stdout",
     "output_type": "stream",
     "text": [
      "LinearRegression(copy_X=True, fit_intercept=True, n_jobs=None, normalize=True)\n"
     ]
    }
   ],
   "source": [
    "from sklearn.linear_model import LinearRegression\n",
    "\n",
    "model = LinearRegression(normalize=True)\n",
    "print(model)"
   ]
  },
  {
   "cell_type": "markdown",
   "metadata": {},
   "source": [
    "## Let's fit our model on some data!"
   ]
  },
  {
   "cell_type": "code",
   "execution_count": 26,
   "metadata": {},
   "outputs": [
    {
     "name": "stdout",
     "output_type": "stream",
     "text": [
      "Data: \n",
      "[[ 0  1]\n",
      " [ 2  3]\n",
      " [ 4  5]\n",
      " [ 6  7]\n",
      " [ 8  9]\n",
      " [10 11]\n",
      " [12 13]\n",
      " [14 15]\n",
      " [16 17]\n",
      " [18 19]] \n",
      "\n",
      "Labels: [0, 1, 2, 3, 4, 5, 6, 7, 8, 9]\n"
     ]
    }
   ],
   "source": [
    "'''sklearn.cross_validation submodule has been renamed and \n",
    "    deprecated to sklearn.model_selection as of Feb. 2019'''\n",
    "\n",
    "import numpy as np\n",
    "from sklearn.model_selection import train_test_split\n",
    "\n",
    "X, y = np.arange(20).reshape((10,2)), range(10)\n",
    "print('Data: \\n%s \\n' % X)\n",
    "print('Labels: %s' % list(y))"
   ]
  },
  {
   "cell_type": "code",
   "execution_count": null,
   "metadata": {},
   "outputs": [],
   "source": []
  }
 ],
 "metadata": {
  "kernelspec": {
   "display_name": "Python 3",
   "language": "python",
   "name": "python3"
  },
  "language_info": {
   "codemirror_mode": {
    "name": "ipython",
    "version": 3
   },
   "file_extension": ".py",
   "mimetype": "text/x-python",
   "name": "python",
   "nbconvert_exporter": "python",
   "pygments_lexer": "ipython3",
   "version": "3.6.5"
  }
 },
 "nbformat": 4,
 "nbformat_minor": 2
}
