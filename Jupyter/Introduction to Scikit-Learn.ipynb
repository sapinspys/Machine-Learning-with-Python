{
 "cells": [
  {
   "cell_type": "markdown",
   "metadata": {},
   "source": [
    "# Introduction to Scikit-Learn\n",
    "\n",
    "Welcome!\n",
    "\n",
    "We will be using the Scikit-Learn module to interactively learn about machine learning with Python. \n",
    "\n",
    "To install with Anaconda Prompt use:\n",
    "**conda install scikit-learn**\n",
    "\n",
    "To install with pip use:\n",
    "**pip install scikit-learn**"
   ]
  },
  {
   "cell_type": "markdown",
   "metadata": {},
   "source": [
    "## Algorithms\n",
    "\n",
    "Scikit-Learn is a package that provides efficient implementations of common algorithms, or models. Once we learn to use one type of model, switching to a new model should be fairly similar.\n",
    "\n",
    "Every algorithm is implemented via Scikit-Learn's Estimator API. A model must be imported using this general model:\n",
    "\n",
    "__*from sklearn.family import Model*__\n",
    "\n",
    "Furthermore, using shift-tab next to the end of the word \"Model\" reveals that estimators are equipped with default parameters that may be modified during instantiation.\n",
    "\n",
    "### For example, linear regression:"
   ]
  },
  {
   "cell_type": "code",
   "execution_count": 4,
   "metadata": {},
   "outputs": [
    {
     "name": "stdout",
     "output_type": "stream",
     "text": [
      "LinearRegression(copy_X=True, fit_intercept=True, n_jobs=None, normalize=True)\n"
     ]
    }
   ],
   "source": [
    "from sklearn.linear_model import LinearRegression\n",
    "\n",
    "model = LinearRegression(normalize=True)\n",
    "print(model)"
   ]
  },
  {
   "cell_type": "markdown",
   "metadata": {},
   "source": [
    "## Let's fit our model on some data!\n",
    "\n",
    "We will first split our data into a training set and a test set. Keep in mind that this is only an introduction and we will get a lot more practice with this in later projects.\n",
    "\n",
    "### Creating a Fake Data Set:"
   ]
  },
  {
   "cell_type": "code",
   "execution_count": 29,
   "metadata": {},
   "outputs": [
    {
     "name": "stdout",
     "output_type": "stream",
     "text": [
      "Data: \n",
      "[[ 0  1]\n",
      " [ 2  3]\n",
      " [ 4  5]\n",
      " [ 6  7]\n",
      " [ 8  9]\n",
      " [10 11]\n",
      " [12 13]\n",
      " [14 15]\n",
      " [16 17]\n",
      " [18 19]] \n",
      "\n",
      "Labels: [0, 1, 2, 3, 4, 5, 6, 7, 8, 9]\n"
     ]
    }
   ],
   "source": [
    "'''NOTE: sklearn.cross_validation submodule has been renamed \n",
    "and deprecated to sklearn.model_selection as of Feb. 2019'''\n",
    "\n",
    "import numpy as np\n",
    "from sklearn.model_selection import train_test_split\n",
    "\n",
    "X, y = np.arange(20).reshape((10,2)), range(10)\n",
    "print('Data: \\n%s \\n' % X)\n",
    "print('Labels: %s' % list(y))"
   ]
  },
  {
   "cell_type": "markdown",
   "metadata": {},
   "source": [
    "### Splitting our Data intro Training and Testing Sets:"
   ]
  },
  {
   "cell_type": "code",
   "execution_count": 35,
   "metadata": {},
   "outputs": [
    {
     "name": "stdout",
     "output_type": "stream",
     "text": [
      "Training Set and Labels: \n",
      "\n",
      "[[ 2  3]\n",
      " [18 19]\n",
      " [10 11]\n",
      " [12 13]\n",
      " [ 6  7]\n",
      " [16 17]\n",
      " [14 15]]\n",
      "\n",
      "[1, 9, 5, 6, 3, 8, 7]\n",
      "\n",
      "Testing Set and Labels: \n",
      "\n",
      "[[8 9]\n",
      " [0 1]\n",
      " [4 5]]\n",
      "\n",
      "[4, 0, 2]\n"
     ]
    }
   ],
   "source": [
    "X_train, X_test, y_train, y_test = train_test_split(X, y, test_size=0.3)\n",
    "print('Training Set and Labels: \\n\\n%s\\n\\n%s\\n' % (X_train, y_train))\n",
    "print('Testing Set and Labels: \\n\\n%s\\n\\n%s' % (X_test, y_test))"
   ]
  },
  {
   "cell_type": "markdown",
   "metadata": {},
   "source": [
    "### Training, or Fitting, our Model on the Training Data:\n",
    "\n",
    "Recall that we instantiated a linear regression estimator that we named 'model.' What we are about to see is an example of a **supervised learning process**."
   ]
  },
  {
   "cell_type": "code",
   "execution_count": 41,
   "metadata": {
    "scrolled": true
   },
   "outputs": [
    {
     "data": {
      "text/plain": [
       "LinearRegression(copy_X=True, fit_intercept=True, n_jobs=None, normalize=True)"
      ]
     },
     "execution_count": 41,
     "metadata": {},
     "output_type": "execute_result"
    }
   ],
   "source": [
    "model.fit(X_train,y_train)"
   ]
  },
  {
   "cell_type": "markdown",
   "metadata": {},
   "source": [
    "We use __*model.fit(data,labels)*__ for supervised learning.\n",
    "\n",
    "We will use __*model.fit(data)*__ for **unsupervised learning applications** that can work off unlabeled data later in later projects."
   ]
  },
  {
   "cell_type": "markdown",
   "metadata": {},
   "source": [
    "### Using our Model to Predict Labels, or Values:\n",
    "\n",
    "We will use a new estimator method to predict labels for our testing set.\n",
    "\n",
    "For **unsupervised estimators** we use these methods:\n",
    "- __*model.predict()*__ which returns predicted labels in clusting algorithms\n",
    "\n",
    "- __*model.predict_proba()*__ which returns the probability that a new observation has each categorical label\n",
    "\n",
    "- __*model.score()*__ which implements a score between 0 and 1, with a larger score indicating a better fit\n",
    "\n",
    "For **unsupervised estimators** we use these methods:\n",
    "- __*model.transform()*__ which, given an unsupervised model, transforms new data into the new basis. It can accept one argument, X_new, and returns the new representation of the data based off the given model\n",
    "\n",
    "- __*model.fit_transform()*__ which some unsupervised estimators use to more efficiently perform a fit and a transform on the same input data"
   ]
  },
  {
   "cell_type": "code",
   "execution_count": 42,
   "metadata": {},
   "outputs": [],
   "source": [
    "predictions = model.predict(X_test)"
   ]
  },
  {
   "cell_type": "code",
   "execution_count": 43,
   "metadata": {},
   "outputs": [
    {
     "data": {
      "text/plain": [
       "array([4.00000000e+00, 1.63757896e-15, 2.00000000e+00])"
      ]
     },
     "execution_count": 43,
     "metadata": {},
     "output_type": "execute_result"
    }
   ],
   "source": [
    "predictions"
   ]
  }
 ],
 "metadata": {
  "kernelspec": {
   "display_name": "Python 3",
   "language": "python",
   "name": "python3"
  },
  "language_info": {
   "codemirror_mode": {
    "name": "ipython",
    "version": 3
   },
   "file_extension": ".py",
   "mimetype": "text/x-python",
   "name": "python",
   "nbconvert_exporter": "python",
   "pygments_lexer": "ipython3",
   "version": "3.6.5"
  }
 },
 "nbformat": 4,
 "nbformat_minor": 2
}
