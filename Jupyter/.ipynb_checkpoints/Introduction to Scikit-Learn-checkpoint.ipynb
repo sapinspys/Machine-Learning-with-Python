{
 "cells": [
  {
   "cell_type": "markdown",
   "metadata": {},
   "source": [
    "# Introduction to Scikit-Learn\n",
    "\n",
    "Welcome!\n",
    "\n",
    "We will be using the Scikit-Learn module to interactively learn about machine learning with Python. \n",
    "\n",
    "To install with Anaconda Prompt use:\n",
    "**conda install scikit-learn**\n",
    "\n",
    "To install with pip use:\n",
    "**pip install scikit-learn**"
   ]
  },
  {
   "cell_type": "markdown",
   "metadata": {},
   "source": [
    "## Algorithms\n",
    "\n",
    "Scikit-Learn is a package that provides efficient implementations of common algorithms, or models. Once we learn to use one type of model, switching to a new model should be fairly similar.\n",
    "\n",
    "Every algorithm is implemented via Scikit-Learn's Estimator API. It must be imported using this general model:\n",
    "\n",
    "__*from sklearn.family import Model*__"
   ]
  },
  {
   "cell_type": "code",
   "execution_count": null,
   "metadata": {},
   "outputs": [],
   "source": []
  }
 ],
 "metadata": {
  "kernelspec": {
   "display_name": "Python 3",
   "language": "python",
   "name": "python3"
  },
  "language_info": {
   "codemirror_mode": {
    "name": "ipython",
    "version": 3
   },
   "file_extension": ".py",
   "mimetype": "text/x-python",
   "name": "python",
   "nbconvert_exporter": "python",
   "pygments_lexer": "ipython3",
   "version": "3.6.5"
  }
 },
 "nbformat": 4,
 "nbformat_minor": 2
}
